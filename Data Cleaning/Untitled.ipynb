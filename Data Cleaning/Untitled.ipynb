{
 "cells": [
  {
   "cell_type": "code",
   "execution_count": 9,
   "id": "f34e7c85",
   "metadata": {},
   "outputs": [
    {
     "name": "stdout",
     "output_type": "stream",
     "text": [
      "Cleaning selesai! Dataset tersimpan sebagai 'dataset_cleaneds.csv'.\n"
     ]
    }
   ],
   "source": [
    "import pandas as pd\n",
    "import re\n",
    "\n",
    "df = pd.read_csv(\"D:/TUGAS AKHIR/TASI-2425-113/scrapping/hasil scrapping/tentang_del.csv\", sep=';', encoding=\"utf-8\")  \n",
    "\n",
    "# Pastikan ada kolom yang akan dibersihkan\n",
    "kolom_teks = \"context\"  # Ganti dengan nama kolom teks dalam dataset\n",
    "\n",
    "# Fungsi untuk cleaning text\n",
    "def clean_text(text):\n",
    "    if pd.isna(text):  # Jika ada nilai NaN, ubah jadi string kosong\n",
    "        return \"\"\n",
    "    text = re.sub(r'[â€œâ€â€™Â]', '', text)  # Menghapus karakter aneh\n",
    "    text = re.sub(r'\\s+', ' ', text).strip()  # Menghapus spasi berlebih\n",
    "    return text\n",
    "\n",
    "# Cleaning teks di setiap baris pada kolom yang ditentukan\n",
    "df[kolom_teks] = df[kolom_teks].astype(str).apply(clean_text)\n",
    "\n",
    "# Simpan hasil cleaning ke file baru\n",
    "df.to_csv(\"D:/TUGAS AKHIR/TASI-2425-113/scrapping/hasil scrapping/dataset1.csv\", index=False)\n",
    "\n",
    "print(\"Cleaning selesai! Dataset tersimpan sebagai 'dataset_cleaneds.csv'.\")"
   ]
  },
  {
   "cell_type": "code",
   "execution_count": 10,
   "id": "a8813076",
   "metadata": {},
   "outputs": [
    {
     "name": "stderr",
     "output_type": "stream",
     "text": [
      "C:\\Users\\user\\AppData\\Local\\Temp\\ipykernel_21144\\4157879075.py:11: FutureWarning: DataFrame.applymap has been deprecated. Use DataFrame.map instead.\n",
      "  df = df.applymap(bersihkan_teks)\n"
     ]
    }
   ],
   "source": [
    "# Fungsi untuk membersihkan karakter aneh\n",
    "def bersihkan_teks(teks):\n",
    "    if isinstance(teks, str):\n",
    "        teks = re.sub(r'[^\\x00-\\x7F]+', ' ', teks)  # Hapus karakter non-ASCII\n",
    "        teks = teks.replace(\"â€œ\", \"\\\"\").replace(\"â€\", \"\\\"\")  # Ganti karakter aneh dengan kutipan normal\n",
    "        teks = teks.replace(\"â€™\", \"'\")  # Ganti apostrof aneh dengan normal\n",
    "        teks = teks.replace(\"â€“\", \"-\")  # Ganti tanda hubung aneh\n",
    "    return teks\n",
    "\n",
    "# Terapkan pada semua kolom teks\n",
    "df = df.applymap(bersihkan_teks)\n",
    "\n",
    "# Simpan hasil cleaning ke file baru\n",
    "df.to_csv(\"D:/TUGAS AKHIR/TASI-2425-113/scrapping/hasil scrapping/dataset2.csv\", index=False)"
   ]
  },
  {
   "cell_type": "code",
   "execution_count": null,
   "id": "9c3b8adf",
   "metadata": {},
   "outputs": [],
   "source": []
  }
 ],
 "metadata": {
  "kernelspec": {
   "display_name": "Python 3 (ipykernel)",
   "language": "python",
   "name": "python3"
  },
  "language_info": {
   "codemirror_mode": {
    "name": "ipython",
    "version": 3
   },
   "file_extension": ".py",
   "mimetype": "text/x-python",
   "name": "python",
   "nbconvert_exporter": "python",
   "pygments_lexer": "ipython3",
   "version": "3.9.12"
  }
 },
 "nbformat": 4,
 "nbformat_minor": 5
}
