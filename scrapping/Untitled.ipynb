{
 "cells": [
  {
   "cell_type": "code",
   "execution_count": 1,
   "id": "8834fc03",
   "metadata": {},
   "outputs": [
    {
     "name": "stderr",
     "output_type": "stream",
     "text": [
      "C:\\Users\\user\\anaconda3\\lib\\site-packages\\pandas\\core\\computation\\expressions.py:21: UserWarning: Pandas requires version '2.8.4' or newer of 'numexpr' (version '2.8.1' currently installed).\n",
      "  from pandas.core.computation.check import NUMEXPR_INSTALLED\n",
      "C:\\Users\\user\\anaconda3\\lib\\site-packages\\pandas\\core\\arrays\\masked.py:60: UserWarning: Pandas requires version '1.3.6' or newer of 'bottleneck' (version '1.3.4' currently installed).\n",
      "  from pandas.core import (\n"
     ]
    },
    {
     "name": "stdout",
     "output_type": "stream",
     "text": [
      "Berhasil mengakses halaman!\n",
      "\n",
      "Tabel Infobox:\n",
      "                     Keterangan  \\\n",
      "0               Nama sebelumnya   \n",
      "1                          Moto   \n",
      "2   Moto dalam bahasa Indonesia   \n",
      "3                     Didirikan   \n",
      "4                       Pendiri   \n",
      "5                 Lembaga induk   \n",
      "6                         Ketua   \n",
      "7                        Rektor   \n",
      "8              Jumlah mahasiswa   \n",
      "9                        Lokasi   \n",
      "10                 Nama julukan   \n",
      "11                    Situs web   \n",
      "\n",
      "                                                Isi  \n",
      "0                        Politeknik Informatika Del  \n",
      "1                       MarTuhan, Marroha, Marbisuk  \n",
      "2                  Ber-Tuhan, Berhati Nurani, Bijak  \n",
      "3                        2001; 24 tahun lalu (2001)  \n",
      "4                            Luhut Binsar Panjaitan  \n",
      "5                                       Yayasan Del  \n",
      "6                                 Intan Simanjuntak  \n",
      "7   Dr. Arnaldo Marulitua Sinaga, S.T., M.InfoTech.  \n",
      "8                             1510 orang (per 2021)  \n",
      "9                   Toba, Sumatera Utara, Indonesia  \n",
      "10                                           IT Del  \n",
      "11                                        del.ac.id  \n"
     ]
    }
   ],
   "source": [
    "import requests\n",
    "from bs4 import BeautifulSoup\n",
    "import pandas as pd\n",
    "\n",
    "# URL halaman Wikipedia\n",
    "url = \"https://id.wikipedia.org/wiki/Institut_Teknologi_Del\"\n",
    "\n",
    "# Mengirim permintaan GET ke URL\n",
    "response = requests.get(url)\n",
    "\n",
    "# Memeriksa apakah permintaan berhasil\n",
    "if response.status_code == 200:\n",
    "    print(\"Berhasil mengakses halaman!\")\n",
    "else:\n",
    "    print(f\"Gagal mengakses halaman. Status code: {response.status_code}\")\n",
    "    exit()\n",
    "\n",
    "# Parsing HTML dengan BeautifulSoup\n",
    "soup = BeautifulSoup(response.content, 'html.parser')\n",
    "\n",
    "# **1. Scraping Tabel Infobox**\n",
    "table = soup.find('table', {'class': 'infobox'})  # Tabel utama\n",
    "data_tabel = []\n",
    "if table:\n",
    "    for row in table.find_all('tr'):\n",
    "        header = row.find('th')  # Header (jika ada)\n",
    "        cell = row.find('td')    # Isi data\n",
    "        if header and cell:\n",
    "            data_tabel.append([header.text.strip(), cell.text.strip()])\n",
    "    df_tabel = pd.DataFrame(data_tabel, columns=[\"Keterangan\", \"Isi\"])\n",
    "    print(\"\\nTabel Infobox:\")\n",
    "    print(df_tabel)\n",
    "    df_tabel.to_csv(\"institut_teknologi_del_infobox.csv\", index=False)\n",
    "else:\n",
    "    print(\"Tabel infobox tidak ditemukan.\")"
   ]
  },
  {
   "cell_type": "code",
   "execution_count": 2,
   "id": "a96f65a7",
   "metadata": {},
   "outputs": [
    {
     "name": "stdout",
     "output_type": "stream",
     "text": [
      "\n",
      "Deskripsi:\n",
      "                                           Deskripsi\n",
      "0               Logo Institut Teknologi Del (IT Del)\n",
      "1  Institut Teknologi Del yang disingkat IT Del a...\n",
      "2                                    Fakultas Vokasi\n",
      "3  Pendidikan vokasi merupakan jenjang pendidikan...\n",
      "4  Fakultas Vokasi Institut Teknologi Del Di Inst...\n"
     ]
    }
   ],
   "source": [
    "# **2. Scraping Paragraf Deskripsi**\n",
    "paragraphs = soup.find_all('p')\n",
    "deskripsi = []\n",
    "for para in paragraphs:\n",
    "    text = para.text.strip()\n",
    "    if len(text) > 0:  # Hanya ambil paragraf yang memiliki teks\n",
    "        deskripsi.append(text)\n",
    "\n",
    "# Menyimpan paragraf deskripsi\n",
    "df_deskripsi = pd.DataFrame(deskripsi, columns=[\"Deskripsi\"])\n",
    "print(\"\\nDeskripsi:\")\n",
    "print(df_deskripsi.head())  # Menampilkan 5 paragraf pertama\n",
    "df_deskripsi.to_csv(\"institut_teknologi_del_deskripsi.csv\", index=False)\n"
   ]
  },
  {
   "cell_type": "code",
   "execution_count": 3,
   "id": "4b043e58",
   "metadata": {},
   "outputs": [
    {
     "name": "stdout",
     "output_type": "stream",
     "text": [
      "\n",
      "Link yang Ditemukan:\n",
      "                Teks                                    URL\n",
      "0      Halaman Utama                    /wiki/Halaman_Utama\n",
      "1         Daftar isi                    /wiki/Wikipedia:Isi\n",
      "2  Perubahan terbaru       /wiki/Istimewa:Perubahan_terbaru\n",
      "3    Artikel pilihan  /wiki/Wikipedia:Artikel_pilihan/Topik\n",
      "4  Peristiwa terkini         /wiki/Portal:Peristiwa_terkini\n"
     ]
    }
   ],
   "source": [
    "# **3. Scraping Link di Halaman**\n",
    "links = []\n",
    "for a in soup.find_all('a', href=True):  # Ambil semua tag <a> dengan atribut href\n",
    "    link = a['href']\n",
    "    text = a.text.strip()\n",
    "    # Filter link yang relevan (tidak termasuk link internal seperti \"#\", \"/wiki/\")\n",
    "    if link.startswith('http') or link.startswith('/wiki'):\n",
    "        links.append({'Teks': text, 'URL': link})\n",
    "\n",
    "# Menyimpan link\n",
    "df_links = pd.DataFrame(links)\n",
    "print(\"\\nLink yang Ditemukan:\")\n",
    "print(df_links.head())  # Menampilkan 5 link pertama\n",
    "df_links.to_csv(\"institut_teknologi_del_links.csv\", index=False)"
   ]
  },
  {
   "cell_type": "code",
   "execution_count": null,
   "id": "dd93f629",
   "metadata": {},
   "outputs": [],
   "source": []
  }
 ],
 "metadata": {
  "kernelspec": {
   "display_name": "Python 3 (ipykernel)",
   "language": "python",
   "name": "python3"
  },
  "language_info": {
   "codemirror_mode": {
    "name": "ipython",
    "version": 3
   },
   "file_extension": ".py",
   "mimetype": "text/x-python",
   "name": "python",
   "nbconvert_exporter": "python",
   "pygments_lexer": "ipython3",
   "version": "3.9.12"
  }
 },
 "nbformat": 4,
 "nbformat_minor": 5
}
