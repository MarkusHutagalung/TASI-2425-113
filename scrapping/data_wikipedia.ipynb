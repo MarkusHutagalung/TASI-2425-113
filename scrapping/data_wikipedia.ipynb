{
 "cells": [
  {
   "cell_type": "code",
   "execution_count": 1,
   "id": "a9abe0fb",
   "metadata": {},
   "outputs": [
    {
     "name": "stderr",
     "output_type": "stream",
     "text": [
      "C:\\Users\\user\\anaconda3\\lib\\site-packages\\pandas\\core\\computation\\expressions.py:21: UserWarning: Pandas requires version '2.8.4' or newer of 'numexpr' (version '2.8.1' currently installed).\n",
      "  from pandas.core.computation.check import NUMEXPR_INSTALLED\n",
      "C:\\Users\\user\\anaconda3\\lib\\site-packages\\pandas\\core\\arrays\\masked.py:60: UserWarning: Pandas requires version '1.3.6' or newer of 'bottleneck' (version '1.3.4' currently installed).\n",
      "  from pandas.core import (\n"
     ]
    },
    {
     "name": "stdout",
     "output_type": "stream",
     "text": [
      "Berhasil mengakses halaman!\n"
     ]
    }
   ],
   "source": [
    "import requests\n",
    "from bs4 import BeautifulSoup\n",
    "import pandas as pd\n",
    "\n",
    "url = \"https://id.wikipedia.org/wiki/Institut_Teknologi_Del\"\n",
    "\n",
    "response = requests.get(url)\n",
    "\n",
    "# Memeriksa apakah permintaan berhasil\n",
    "if response.status_code == 200:\n",
    "    print(\"Berhasil mengakses halaman!\")\n",
    "else:\n",
    "    print(f\"Gagal mengakses halaman. Status code: {response.status_code}\")\n",
    "    exit()"
   ]
  },
  {
   "cell_type": "code",
   "execution_count": 2,
   "id": "e1e2be55",
   "metadata": {},
   "outputs": [
    {
     "name": "stdout",
     "output_type": "stream",
     "text": [
      "                     Keterangan  \\\n",
      "0               Nama sebelumnya   \n",
      "1                          Moto   \n",
      "2   Moto dalam bahasa Indonesia   \n",
      "3                     Didirikan   \n",
      "4                       Pendiri   \n",
      "5                 Lembaga induk   \n",
      "6                         Ketua   \n",
      "7                        Rektor   \n",
      "8              Jumlah mahasiswa   \n",
      "9                        Lokasi   \n",
      "10                 Nama julukan   \n",
      "11                    Situs web   \n",
      "\n",
      "                                            context  \n",
      "0                        Politeknik Informatika Del  \n",
      "1                       MarTuhan, Marroha, Marbisuk  \n",
      "2                  Ber-Tuhan, Berhati Nurani, Bijak  \n",
      "3                        2001; 24 tahun lalu (2001)  \n",
      "4                            Luhut Binsar Panjaitan  \n",
      "5                                       Yayasan Del  \n",
      "6                                 Intan Simanjuntak  \n",
      "7   Dr. Arnaldo Marulitua Sinaga, S.T., M.InfoTech.  \n",
      "8                             1510 orang (per 2021)  \n",
      "9                   Toba, Sumatera Utara, Indonesia  \n",
      "10                                           IT Del  \n",
      "11                                        del.ac.id  \n"
     ]
    }
   ],
   "source": [
    "soup = BeautifulSoup(response.content, 'html.parser')\n",
    "\n",
    "table = soup.find('table', {'class': 'infobox'}) \n",
    "\n",
    "data = []\n",
    "for row in table.find_all('tr'):\n",
    "    header = row.find('th')  # Header (jika ada)\n",
    "    cell = row.find('td')    # Isi data\n",
    "    if header and cell:\n",
    "        data.append([header.text.strip(), cell.text.strip()])\n",
    "\n",
    "# Mengonversi ke DataFrame\n",
    "df = pd.DataFrame(data, columns=[\"Keterangan\", \"context\"])\n",
    "print(df)\n",
    "\n",
    "# Menyimpan ke file CSV\n",
    "df.to_csv(\"institut_teknologi_del.csv\", index=False)"
   ]
  },
  {
   "cell_type": "code",
   "execution_count": null,
   "id": "84c8a912",
   "metadata": {},
   "outputs": [],
   "source": []
  }
 ],
 "metadata": {
  "kernelspec": {
   "display_name": "Python 3 (ipykernel)",
   "language": "python",
   "name": "python3"
  },
  "language_info": {
   "codemirror_mode": {
    "name": "ipython",
    "version": 3
   },
   "file_extension": ".py",
   "mimetype": "text/x-python",
   "name": "python",
   "nbconvert_exporter": "python",
   "pygments_lexer": "ipython3",
   "version": "3.9.12"
  }
 },
 "nbformat": 4,
 "nbformat_minor": 5
}
